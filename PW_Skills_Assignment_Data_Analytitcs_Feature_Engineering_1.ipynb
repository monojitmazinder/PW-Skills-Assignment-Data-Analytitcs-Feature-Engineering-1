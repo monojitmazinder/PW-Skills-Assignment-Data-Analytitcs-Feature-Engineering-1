{
  "nbformat": 4,
  "nbformat_minor": 0,
  "metadata": {
    "colab": {
      "provenance": []
    },
    "kernelspec": {
      "name": "python3",
      "display_name": "Python 3"
    },
    "language_info": {
      "name": "python"
    }
  },
  "cells": [
    {
      "cell_type": "markdown",
      "source": [
        "# **PW Skills Assignment: Data Analytitcs: Feature Engineering**"
      ],
      "metadata": {
        "id": "UonjUd9Btn1E"
      }
    },
    {
      "cell_type": "markdown",
      "source": [
        "**Assignment Questions**"
      ],
      "metadata": {
        "id": "uulXRe3ftsSm"
      }
    },
    {
      "cell_type": "markdown",
      "source": [
        "1. What is a parameter?\n",
        "\n",
        "Ans: A parameter is an internal variable of a model that is learned from the training data. For example, weights in a linear regression model are parameters."
      ],
      "metadata": {
        "id": "iPQmZB-zt1te"
      }
    },
    {
      "cell_type": "markdown",
      "source": [
        "2. What is correlation? What does negative correlation mean?\n",
        "\n",
        "Ans: **Correlation** measures the linear relationship between two variables. It ranges from -1 to +1.\n",
        "\n",
        "\n",
        "**Negative correlation** means that as one variable increases, the other decreases. The correlation value lies between 0 and -1."
      ],
      "metadata": {
        "id": "R80LkdZZ0TDx"
      }
    },
    {
      "cell_type": "markdown",
      "source": [
        "3. Define Machine Learning. What are the main components in Machine Learning?\n",
        "\n",
        "Ans: Machine Learning is the ability of a system to learn from data. Key components include data, model, algorithm, loss function, and optimization."
      ],
      "metadata": {
        "id": "8a6zdT2V0xNh"
      }
    },
    {
      "cell_type": "markdown",
      "source": [
        "4. How does loss value help in determining whether the model is good or not?\n",
        "\n",
        "Ans: Loss value shows the model’s error. A lower loss means the model predictions are closer to the actual values, indicating better performance."
      ],
      "metadata": {
        "id": "Da4okdd409iY"
      }
    },
    {
      "cell_type": "markdown",
      "source": [
        "5. What are continuous and categorical variables?\n",
        "\n",
        "Ans: Continuous variables are numerical and measurable (e.g., height). Categorical variables represent categories (e.g., gender)."
      ],
      "metadata": {
        "id": "cbimNmSS1JEq"
      }
    },
    {
      "cell_type": "markdown",
      "source": [
        "6. How do we handle categorical variables in Machine Learning? What are the common techniques?\n",
        "\n",
        "Ans: Categorical variables must be converted into numerical form for ML models. Common techniques include **Label Encoding** (assigns each category a number, used for ordinal data) and **One-Hot Encoding** (creates binary columns for each category, used for nominal data). In Python, use `LabelEncoder` or `OneHotEncoder` from `sklearn.preprocessing` or `pd.get_dummies()` from pandas. Choice of method depends on whether the category has a meaningful order or not.\n"
      ],
      "metadata": {
        "id": "Cu8WfASE1YaK"
      }
    },
    {
      "cell_type": "markdown",
      "source": [
        "7. What do you mean by training and testing a dataset?\n",
        "\n",
        "Ans: Training data is used to build the model. Testing data is used to evaluate how well the model performs on unseen data."
      ],
      "metadata": {
        "id": "dVQmVe4w2Cb1"
      }
    },
    {
      "cell_type": "markdown",
      "source": [
        "8. What is sklearn.preprocessing?\n",
        "\n",
        "Ans: It’s a module in scikit-learn that provides functions for preprocessing data, such as scaling, encoding, and normalization."
      ],
      "metadata": {
        "id": "0BTk-xYX2O4X"
      }
    },
    {
      "cell_type": "markdown",
      "source": [
        "9. What is a Test set?\n",
        "\n",
        "Ans: A test set is a portion of the dataset used to evaluate the performance of the trained model on unseen data."
      ],
      "metadata": {
        "id": "dsIreX1R2XgF"
      }
    },
    {
      "cell_type": "markdown",
      "source": [
        "10. How do we split data for model fitting (training and testing) in Python? How do you approach a Machine Learning problem?\n",
        "\n",
        "Ans: Using train_test_split() from sklearn.model_selection. It randomly splits the data into training and test sets.\n",
        "\n",
        "\n",
        "**Approach:** Understand the problem, collect data, clean and explore data, select features, choose model, train, evaluate, and improve."
      ],
      "metadata": {
        "id": "HyqoLn3n2j8P"
      }
    },
    {
      "cell_type": "markdown",
      "source": [
        "11. Why do we have to perform EDA before fitting a model to the data?\n",
        "\n",
        "Ans: EDA helps understand data distribution, detect outliers, missing values, and relationships between features for better modeling."
      ],
      "metadata": {
        "id": "MxotXQEr3IX2"
      }
    },
    {
      "cell_type": "markdown",
      "source": [
        "12. What is correlation?\n",
        "\n",
        "Ans: Correlation is a statistical measure that shows how strongly two variables are related. It helps in feature selection."
      ],
      "metadata": {
        "id": "Q8PRve0f3ULY"
      }
    },
    {
      "cell_type": "markdown",
      "source": [
        "13. What does negative correlation mean?\n",
        "\n",
        "Ans: It indicates that as one variable increases, the other decreases. It suggests an inverse relationship between variables."
      ],
      "metadata": {
        "id": "gGojGlXV3fNh"
      }
    },
    {
      "cell_type": "markdown",
      "source": [
        "14. How can you find correlation between variables in Python?\n",
        "\n",
        "Ans: Use .corr() method in pandas or seaborn.heatmap() to visualize correlation between variables in a dataset."
      ],
      "metadata": {
        "id": "_EXsj32I3qj6"
      }
    },
    {
      "cell_type": "markdown",
      "source": [
        "15. What is causation? Explain difference between correlation and causation with an example.\n",
        "\n",
        "Ans: Causation means one variable directly affects another. Correlation shows a relationship but doesn’t prove one causes the other. For example, ice cream sales and drowning deaths may increase together (positive correlation), but eating ice cream doesn’t cause drowning. The actual cause is a third factor—hot weather. So, while correlation may suggest a link, causation proves it. Understanding this difference is key to making accurate conclusions from data."
      ],
      "metadata": {
        "id": "VYRR4YU7325i"
      }
    },
    {
      "cell_type": "markdown",
      "source": [
        "16. What is an Optimizer? What are different types of optimizers? Explain each with an example.\n",
        "\n",
        "Ans: An optimizer is an algorithm that adjusts model parameters (like weights) to minimize the loss function during training. Common optimizers:\n",
        "\n",
        "1. **SGD (Stochastic Gradient Descent):** Updates weights using one sample at a time. Example: `optimizer = SGD(model.parameters(), lr=0.01)`\n",
        "2. **Adam:** Combines momentum and RMSProp. Adapts learning rate. Example: `optimizer = Adam(model.parameters())`\n",
        "3. **RMSprop:** Adjusts learning rate for each parameter. Good for RNNs. Example: `optimizer = RMSprop(model.parameters())`\n",
        "\n",
        "Each helps improve training efficiency and accuracy.\n"
      ],
      "metadata": {
        "id": "hBpbpXt-4LFc"
      }
    },
    {
      "cell_type": "markdown",
      "source": [
        "17. What is sklearn.linear_model ?\n",
        "\n",
        "Ans: It’s a module in scikit-learn that includes linear models like LinearRegression, Ridge, and LogisticRegression for regression and classification tasks."
      ],
      "metadata": {
        "id": "sj9kOOsD4hDG"
      }
    },
    {
      "cell_type": "markdown",
      "source": [
        "18. What does model.fit() do? What arguments must be given?\n",
        "\n",
        "Ans: It trains the model using input (X) and output (y) data. Arguments: features (X) and target (y) arrays."
      ],
      "metadata": {
        "id": "melLONZ14tpf"
      }
    },
    {
      "cell_type": "markdown",
      "source": [
        "19. What does model.predict() do? What arguments must be given?\n",
        "\n",
        "\n",
        "Ans: It predicts output for given input features. Argument: feature data (X) for which predictions are to be made."
      ],
      "metadata": {
        "id": "Lx5MXPGM43lS"
      }
    },
    {
      "cell_type": "markdown",
      "source": [
        "20. What are continuous and categorical variables?\n",
        "\n",
        "Ans: Continuous variables have numeric values that can be measured. Categorical variables represent categories or groups."
      ],
      "metadata": {
        "id": "CySBsGkB5CCX"
      }
    },
    {
      "cell_type": "markdown",
      "source": [
        "21. What is feature scaling? How does it help in Machine Learning?\n",
        "\n",
        "Ans: Feature scaling standardizes features to a similar scale. It improves model performance and convergence, especially for algorithms using distance."
      ],
      "metadata": {
        "id": "EsIcUQKz5Pud"
      }
    },
    {
      "cell_type": "markdown",
      "source": [
        "22. How do we perform scaling in Python?\n",
        "\n",
        "Ans: Use StandardScaler or MinMaxScaler from sklearn.preprocessing to scale data before training the model."
      ],
      "metadata": {
        "id": "lAsV2sQQ5b43"
      }
    },
    {
      "cell_type": "markdown",
      "source": [
        "23. What is sklearn.preprocessing?\n",
        "\n",
        "Ans: It is a scikit-learn module that provides tools for transforming data: encoding, scaling, normalizing, and imputing missing values."
      ],
      "metadata": {
        "id": "qbDd26Iw5lIm"
      }
    },
    {
      "cell_type": "markdown",
      "source": [
        "24. How do we split data for model fitting (training and testing) in Python?\n",
        "\n",
        "Ans: Using train_test_split() function from sklearn.model_selection with parameters like test_size and random_state."
      ],
      "metadata": {
        "id": "zYoQnsvH5u06"
      }
    },
    {
      "cell_type": "markdown",
      "source": [
        "25. Explain data encoding?\n",
        "\n",
        "Ans: Data encoding converts categorical data into numerical form. Methods include Label Encoding (ordinal) and One-Hot Encoding (nominal)."
      ],
      "metadata": {
        "id": "BO6pNRB054Rj"
      }
    }
  ]
}